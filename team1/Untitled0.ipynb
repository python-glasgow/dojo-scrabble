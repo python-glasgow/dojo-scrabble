{
 "metadata": {
  "name": "",
  "signature": "sha256:d572952394842d5480501bf91a6979aec6d76ee58ac3ee269dc8f820d13aa92f"
 },
 "nbformat": 3,
 "nbformat_minor": 0,
 "worksheets": [
  {
   "cells": [
    {
     "cell_type": "code",
     "collapsed": false,
     "input": [
      "import string\n",
      "\n",
      "letter_values = {l: 1 for l in string.letters}\n",
      "\n",
      "letter_values['b'] = 3\n",
      "letter_values['c'] = 3\n",
      "letter_values['d'] = 2\n",
      "letter_values['f'] = 4\n",
      "letter_values['g'] = 2\n",
      "letter_values['h'] = 4\n",
      "letter_values['j'] = 8\n",
      "letter_values['k'] = 5\n",
      "letter_values['m'] = 3\n",
      "letter_values['p'] = 3\n",
      "letter_values['q'] = 10\n",
      "letter_values['v'] = 4\n",
      "letter_values['w'] = 4\n",
      "letter_values['x'] = 8\n",
      "letter_values['w'] = 4\n",
      "letter_values['z'] = 10"
     ],
     "language": "python",
     "metadata": {},
     "outputs": [],
     "prompt_number": 1
    },
    {
     "cell_type": "code",
     "collapsed": false,
     "input": [
      "BOARD = [['_' for i in range(15)] for y in range(15)]\n",
      "\n",
      "BOARD[7][6] = 'p'\n",
      "BOARD[7][7] = 'y'\n",
      "BOARD[7][8] = 't'\n",
      "BOARD[7][9] = 'h'\n",
      "BOARD[7][10] = 'o'\n",
      "BOARD[7][11] = 'n'\n",
      "BOARD[3][6]='c'\n",
      "BOARD[4][6]='h'\n",
      "BOARD[5][6]='u'\n",
      "BOARD[6][6]='m'\n",
      "BOARD[8][6]='a'\n",
      "\n",
      "def display_board():\n",
      "    for row in BOARD:\n",
      "        print '|'.join(row)\n",
      "        \n",
      "display_board()"
     ],
     "language": "python",
     "metadata": {},
     "outputs": [
      {
       "output_type": "stream",
       "stream": "stdout",
       "text": [
        "_|_|_|_|_|_|_|_|_|_|_|_|_|_|_\n",
        "_|_|_|_|_|_|_|_|_|_|_|_|_|_|_\n",
        "_|_|_|_|_|_|_|_|_|_|_|_|_|_|_\n",
        "_|_|_|_|_|_|c|_|_|_|_|_|_|_|_\n",
        "_|_|_|_|_|_|h|_|_|_|_|_|_|_|_\n",
        "_|_|_|_|_|_|u|_|_|_|_|_|_|_|_\n",
        "_|_|_|_|_|_|m|_|_|_|_|_|_|_|_\n",
        "_|_|_|_|_|_|p|y|t|h|o|n|_|_|_\n",
        "_|_|_|_|_|_|a|_|_|_|_|_|_|_|_\n",
        "_|_|_|_|_|_|_|_|_|_|_|_|_|_|_\n",
        "_|_|_|_|_|_|_|_|_|_|_|_|_|_|_\n",
        "_|_|_|_|_|_|_|_|_|_|_|_|_|_|_\n",
        "_|_|_|_|_|_|_|_|_|_|_|_|_|_|_\n",
        "_|_|_|_|_|_|_|_|_|_|_|_|_|_|_\n",
        "_|_|_|_|_|_|_|_|_|_|_|_|_|_|_\n"
       ]
      }
     ],
     "prompt_number": 33
    },
    {
     "cell_type": "code",
     "collapsed": false,
     "input": [
      "\n",
      "def unique_board_letters():\n",
      "    \n",
      "    letters = set()\n",
      "    for row in BOARD:\n",
      "        for letter in row:\n",
      "            if letter is not None:\n",
      "                letters.add(letter)\n",
      "    return letters\n",
      "\n",
      "print unique_board_letters()"
     ],
     "language": "python",
     "metadata": {},
     "outputs": [
      {
       "output_type": "stream",
       "stream": "stdout",
       "text": [
        "set(['h', 'o', 'n', 'p', 't', 'y'])\n"
       ]
      }
     ],
     "prompt_number": 18
    },
    {
     "cell_type": "code",
     "collapsed": false,
     "input": [
      "from itertools import permutations\n",
      "\n",
      "dictionary = set(open('/usr/share/dict/words').read().splitlines())\n",
      "\n",
      "def find_words(letters, on_board):\n",
      "    \n",
      "    possible_words = set()\n",
      "    \n",
      "    for on_board_letter in on_board:\n",
      "        hand = letters + on_board_letter\n",
      "        for i in range(2, len(hand)):\n",
      "            for l in permutations(hand, i + 1):\n",
      "                word = ''.join(l)\n",
      "                possible_words.add(word)\n",
      "    \n",
      "    return reversed(sorted(possible_words.intersection(dictionary), key=len))\n",
      "\n",
      "def best_word(myhand):\n",
      "    on_board = unique_board_letters()\n",
      "    words = list(find_words(myhand, on_board))\n",
      "\n",
      "    def word_value(word):\n",
      "        total = 0\n",
      "        for l in word:\n",
      "            total += letter_values[l]\n",
      "        return total\n",
      "\n",
      "    words = sorted(((word_value(word), word) for word in words), reverse=True)\n",
      "\n",
      "    for word in words[:10]:\n",
      "        print word\n",
      "        \n",
      "    return words[0][1]\n"
     ],
     "language": "python",
     "metadata": {},
     "outputs": [],
     "prompt_number": 45
    },
    {
     "cell_type": "code",
     "collapsed": false,
     "input": [
      "while True:\n",
      "    myhand = raw_input(\"Enter your letters \")\n",
      "    \n",
      "    word = best_word(myhand)\n",
      "    print word\n",
      "    def match(word):\n",
      "        for l in word:\n",
      "            for i in range(15):\n",
      "                for j in range(15):\n",
      "                    if l == BOARD[i][j]: return i,j\n",
      "                    \n",
      "                    \n",
      "    i, j = match(word)\n",
      "    display_board()\n",
      "    \n",
      "    print i,j"
     ],
     "language": "python",
     "metadata": {},
     "outputs": [
      {
       "name": "stdout",
       "output_type": "stream",
       "stream": "stdout",
       "text": [
        "Enter your letters cfrthyj\n"
       ]
      },
      {
       "output_type": "stream",
       "stream": "stdout",
       "text": [
        "(17, 'jacht')\n",
        "(16, 'joch')\n",
        "(15, 'fratchy')\n",
        "(14, 'fratch')\n",
        "(13, 'jctn')\n",
        "(13, 'jah')\n",
        "(13, 'haj')\n",
        "(13, 'fotch')\n",
        "(13, 'fchar')\n",
        "(13, 'chaft')\n",
        "jacht\n",
        "_|_|_|_|_|_|_|_|_|_|_|_|_|_|_\n",
        "_|_|_|_|_|_|_|_|_|_|_|_|_|_|_\n",
        "_|_|_|_|_|_|_|_|_|_|_|_|_|_|_\n",
        "_|_|_|_|_|_|c|_|_|_|_|_|_|_|_\n",
        "_|_|_|_|_|_|h|_|_|_|_|_|_|_|_\n",
        "_|_|_|_|_|_|u|_|_|_|_|_|_|_|_\n",
        "_|_|_|_|_|_|m|_|_|_|_|_|_|_|_\n",
        "_|_|_|_|_|_|p|y|t|h|o|n|_|_|_\n",
        "_|_|_|_|_|_|a|_|_|_|_|_|_|_|_\n",
        "_|_|_|_|_|_|_|_|_|_|_|_|_|_|_\n",
        "_|_|_|_|_|_|_|_|_|_|_|_|_|_|_\n",
        "_|_|_|_|_|_|_|_|_|_|_|_|_|_|_\n",
        "_|_|_|_|_|_|_|_|_|_|_|_|_|_|_\n",
        "_|_|_|_|_|_|_|_|_|_|_|_|_|_|_\n",
        "_|_|_|_|_|_|_|_|_|_|_|_|_|_|_\n",
        "8 6\n"
       ]
      }
     ]
    },
    {
     "cell_type": "code",
     "collapsed": false,
     "input": [],
     "language": "python",
     "metadata": {},
     "outputs": []
    }
   ],
   "metadata": {}
  }
 ]
}